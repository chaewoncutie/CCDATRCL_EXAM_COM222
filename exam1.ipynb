{
  "cells": [
    {
      "cell_type": "markdown",
      "metadata": {
        "colab_type": "text",
        "id": "view-in-github"
      },
      "source": [
        "<a href=\"https://colab.research.google.com/github/robitussin/CCDATRCL_EXAM/blob/main/exam1.ipynb\" target=\"_parent\"><img src=\"https://colab.research.google.com/assets/colab-badge.svg\" alt=\"Open In Colab\"/></a>"
      ]
    },
    {
      "cell_type": "markdown",
      "metadata": {
        "id": "yaz2B0KGFehP"
      },
      "source": [
        "# Midterm Exam 💛💙"
      ]
    },
    {
      "cell_type": "markdown",
      "metadata": {
        "id": "_DmK1ONEFehQ"
      },
      "source": [
        "**Instructions** ❗️❗️\n",
        "\n",
        "❌ Do not remove or modify the notebook **sections**, **subsections**, **exam questions** or **any text** in this python notebook\n",
        "\n",
        "✔️ Put your answer in the designated cells below each question"
      ]
    },
    {
      "cell_type": "markdown",
      "metadata": {
        "id": "TMCAXKWCFehR"
      },
      "source": [
        "## Search"
      ]
    },
    {
      "cell_type": "code",
      "execution_count": 1602,
      "metadata": {
        "id": "Fy8nEBRRFehR"
      },
      "outputs": [],
      "source": [
        "def linearSearch(my_list, number):\n",
        "\n",
        "    index = 0\n",
        "\n",
        "    for i in my_list:\n",
        "\n",
        "        if my_list[index] == number:\n",
        "            return index\n",
        "\n",
        "        index = index + 1\n",
        "\n",
        "    return -1"
      ]
    },
    {
      "cell_type": "markdown",
      "metadata": {
        "id": "AjAevpueFehS"
      },
      "source": [
        "1. Using **linear search**, write a `findLargestIncrease()` function to find the largest increase in value between two adjacent numbers in your student number `(10 points)`\n",
        "\n",
        "    **Example:**\n",
        "\n",
        "    student_number = [2,0,2,2,6,2,5,1,9,3]\n",
        "\n",
        "    **Expected Output:**\n",
        "\n",
        "    findLargestIncrease(student_number)\n",
        "\n",
        "    Output: Between 1 and 9\n",
        "\n",
        "    **Explanation:**\n",
        "\n",
        "    From this student_number, the largest increase happened from number 1 to number 9"
      ]
    },
    {
      "cell_type": "code",
      "execution_count": 1603,
      "metadata": {
        "id": "JE8nEfyJFehS"
      },
      "outputs": [
        {
          "name": "stdout",
          "output_type": "stream",
          "text": [
            "Output: Between 0 and 7\n"
          ]
        }
      ],
      "source": [
        "# put your answer here\n",
        "student_number = [2, 0, 2, 2, 1, 0, 7, 7, 9, 1]\n",
        "\n",
        "def findLargestIncrease(student_number):\n",
        "    largest_increase = 0\n",
        "    max_increase_pair = ()\n",
        "\n",
        "    for i in range(len(student_number) - 1):\n",
        "        increase = student_number[i + 1] - student_number[i]\n",
        "        if increase > largest_increase:\n",
        "            largest_increase = increase\n",
        "            lalagyan = (student_number[i], student_number[i + 1])\n",
        "\n",
        "    return f\"Between {lalagyan[0]} and {lalagyan[1]}\"\n",
        "\n",
        "\n",
        "result = findLargestIncrease(student_number)\n",
        "print(\"Output:\", result)"
      ]
    },
    {
      "cell_type": "markdown",
      "metadata": {
        "id": "nMyr1fNyFehS"
      },
      "source": [
        "2. Using **linear search**, write a `findLargestDecrease()` function to find the largest decrease in value between two adjacent numbers in your student number `(10 points)`\n",
        "\n",
        "    **Example:**\n",
        "\n",
        "    student_number = [2,0,2,2,6,2,5,1,9,3]\n",
        "\n",
        "    **Expected Output:**\n",
        "\n",
        "    findLargestDecrease(student_number)\n",
        "\n",
        "    Output: Between 9 and 3\n",
        "\n",
        "    **Explanation:**\n",
        "\n",
        "    From this student_number, the largest decrease happened from number 9 to number 3"
      ]
    },
    {
      "cell_type": "code",
      "execution_count": 1604,
      "metadata": {
        "id": "bfMfQVbVFehS"
      },
      "outputs": [
        {
          "name": "stdout",
          "output_type": "stream",
          "text": [
            "Output: Between 9 and 1\n"
          ]
        }
      ],
      "source": [
        "# put your answer here\n",
        "student_number = [2, 0, 2, 2, 1, 0, 7, 7, 9 ,1]\n",
        "def findLargestDecrease(student_number):\n",
        "    largest_decrease = 0\n",
        "    start = None\n",
        "    end = None\n",
        "\n",
        "    for i in range(len(student_number) - 1):\n",
        "        decrease = student_number[i] - student_number[i + 1]\n",
        "        if decrease > largest_decrease:\n",
        "            largest_decrease = decrease\n",
        "            start, end = i, i + 1\n",
        "\n",
        "    return f\"Between {student_number[start]} and {student_number[end]}\"\n",
        "\n",
        "result = findLargestDecrease(student_number)\n",
        "print(\"Output:\", result)"
      ]
    },
    {
      "cell_type": "markdown",
      "metadata": {
        "id": "NtKSQn9QFehS"
      },
      "source": [
        "## Linked List"
      ]
    },
    {
      "cell_type": "code",
      "execution_count": 1605,
      "metadata": {
        "id": "0HP5zyJcFehS"
      },
      "outputs": [],
      "source": [
        "class Node:\n",
        "\n",
        "    def __init__(self, data):\n",
        "        self.data = data\n",
        "        self.next = None  # null"
      ]
    },
    {
      "cell_type": "code",
      "execution_count": 1606,
      "metadata": {
        "id": "A-8Uefe7FehS"
      },
      "outputs": [],
      "source": [
        "class LinkedList:\n",
        "\n",
        "    def __init__(self):\n",
        "        self.head = None\n",
        "\n",
        "    def traverse(self, node):\n",
        "        while node:\n",
        "            print(node.data, end=\" -> \")\n",
        "            node = node.next"
      ]
    },
    {
      "cell_type": "markdown",
      "metadata": {
        "id": "uPgIJJuSFehT"
      },
      "source": [
        "**Instructions** ❗️❗️\n",
        "\n",
        "Use the pre-defined linked list class/functions to create a linked list"
      ]
    },
    {
      "cell_type": "markdown",
      "metadata": {
        "id": "WIwpW7Q2FehT"
      },
      "source": [
        "1. Create a Singly linked list named **num_list** and print all of its elements. `(5 points)`\n",
        "\n",
        "- **num_list** should contain all digits of your student number.\n",
        "\n",
        "    **Expected Output:**\n",
        "\n",
        "    print(num_list)\n",
        "\n",
        "    [2, 0, 2, 2, 1, 2, 3, 4, 5, 6]"
      ]
    },
    {
      "cell_type": "code",
      "execution_count": 1607,
      "metadata": {
        "id": "Lihv0JPiFehT"
      },
      "outputs": [
        {
          "name": "stdout",
          "output_type": "stream",
          "text": [
            "[2, 0, 2, 2, 1, 0, 7, 7, 9, 1]\n"
          ]
        }
      ],
      "source": [
        "# put your answer here\n",
        "class Node:\n",
        "    def __init__(self, data):\n",
        "        self.data = data\n",
        "        self.next = None\n",
        "        \n",
        "def print_linked_list(head):\n",
        "    current = head\n",
        "    numbers = []\n",
        "    while current is not None:\n",
        "        numbers.append(current.data)\n",
        "        current = current.next\n",
        "    return numbers\n",
        "\n",
        "student_number = \"2022107791\"\n",
        "num_list = None\n",
        "\n",
        "for digit in student_number:\n",
        "    new_node = Node(int(digit))\n",
        "    if num_list is None:\n",
        "        num_list = new_node\n",
        "    else:\n",
        "        current = num_list\n",
        "        while current.next is not None:\n",
        "            current = current.next\n",
        "        current.next = new_node\n",
        "\n",
        "result = print_linked_list(num_list)\n",
        "print(result)"
      ]
    },
    {
      "cell_type": "markdown",
      "metadata": {
        "id": "dqA2UYrYFehT"
      },
      "source": [
        "2. Write a `hasPrime()` function to test whether a prime number is in the last six digits of **num_list**. `(5 points)`\n",
        "\n",
        "- If a prime number is in the last six digits of **num_list**, the method should return **true**\n",
        "\n",
        "- If a prime number is not in the last six digits of **num_list**, the method should return **false**\n",
        "\n",
        "    **Expected Output:**\n",
        "\n",
        "    hasPrime(num_list)\n",
        "\n",
        "    True"
      ]
    },
    {
      "cell_type": "code",
      "execution_count": 1608,
      "metadata": {
        "id": "GYwsQNz5FehT"
      },
      "outputs": [
        {
          "name": "stdout",
          "output_type": "stream",
          "text": [
            "True\n"
          ]
        }
      ],
      "source": [
        "# put your answer here\n",
        "def is_prime(n):\n",
        "    if n <= 1:\n",
        "        return False\n",
        "    if n <= 3:\n",
        "        return True\n",
        "    if n % 2 == 0 or n % 3 == 0:\n",
        "        return False\n",
        "    i = 5\n",
        "    while i * i <= n:\n",
        "        if n % i == 0 or n % (i + 2) == 0:\n",
        "            return False\n",
        "        i += 6\n",
        "    return True\n",
        "\n",
        "def hasPrime(head):\n",
        "    current = head\n",
        "\n",
        "    for x in range(4):\n",
        "        current = current.next\n",
        "\n",
        "    while current:\n",
        "        if is_prime(current.data):\n",
        "            return True\n",
        "        current = current.next\n",
        "\n",
        "    return False\n",
        "\n",
        "result = hasPrime(num_list)\n",
        "print(result)"
      ]
    },
    {
      "cell_type": "markdown",
      "metadata": {
        "id": "5Qb0BOiwFehT"
      },
      "source": [
        "3. Write a `removeZeroes()` function to remove all occurrences of zeroes in **num_list**. `(5 points)`\n",
        "\n",
        "- If a zero is in **num_list**, return **num_list**\n",
        "\n",
        "- If there are no zeroes in **num_list**, return **\"no zeros found\"**\n",
        "\n",
        "    **Expected Output:**\n",
        "\n",
        "    removeZeroes(num_list)\n",
        "\n",
        "    [2, 2, 1, 2, 3, 4, 5, 6]"
      ]
    },
    {
      "cell_type": "code",
      "execution_count": 1609,
      "metadata": {
        "id": "k1vAHUYuFehT"
      },
      "outputs": [
        {
          "name": "stdout",
          "output_type": "stream",
          "text": [
            "[2, 2, 2, 1, 7, 7, 9, 1]\n"
          ]
        }
      ],
      "source": [
        "# put your answer here\n",
        "class Node:\n",
        "    def __init__(self, data):\n",
        "        self.data = data\n",
        "        self.next = None\n",
        "\n",
        "def print_linked_list(head):\n",
        "    current = head\n",
        "    numbers = []\n",
        "    while current is not None:\n",
        "        numbers.append(current.data)\n",
        "        current = current.next\n",
        "    return numbers\n",
        "\n",
        "def removeZeroes(head):\n",
        "    while head and head.data == 0:\n",
        "        head = head.next\n",
        "\n",
        "    current = head\n",
        "    prev = None\n",
        "\n",
        "    while current:\n",
        "        if current.data == 0:\n",
        "            if prev:\n",
        "                prev.next = current.next\n",
        "            current = current.next\n",
        "        else:\n",
        "            prev = current\n",
        "            current = current.next\n",
        "\n",
        "    return head if head else \"no zeros found\"\n",
        "\n",
        "result = removeZeroes(num_list)\n",
        "\n",
        "if result == \"no zeros found\":\n",
        "    print(result)\n",
        "else:\n",
        "    num_list = print_linked_list(result)\n",
        "    print(num_list)"
      ]
    },
    {
      "cell_type": "markdown",
      "metadata": {
        "id": "SKAlpglNFehT"
      },
      "source": [
        "4. Insert a dash symbol between the 4th and 5th digit in **num_list**. `(5 points)`\n",
        "\n",
        "    **Expected Output:**\n",
        "\n",
        "    print(num_list)\n",
        "\n",
        "    [2, 0, 2, 2, \"-\", 1, 2, 3, 4, 5, 6]"
      ]
    },
    {
      "cell_type": "code",
      "execution_count": 1610,
      "metadata": {
        "id": "vF7fimZ-FehT"
      },
      "outputs": [
        {
          "name": "stdout",
          "output_type": "stream",
          "text": [
            "2 0 2 2 - 1 0 7 7 9 1 "
          ]
        }
      ],
      "source": [
        "# put your answer here\n",
        "class Node:\n",
        "    def __init__(self, value):\n",
        "        self.value = value\n",
        "        self.next = None\n",
        "\n",
        "student_number = \"2022107791\"\n",
        "num_list = None\n",
        "number = 0\n",
        "\n",
        "for digit in student_number:\n",
        "    new_node = Node(int(digit))\n",
        "\n",
        "    if number == 4: \n",
        "        dash_node = Node(\"-\")\n",
        "        dash_node.next = new_node\n",
        "        new_node = dash_node\n",
        "\n",
        "    if not num_list:\n",
        "        num_list = new_node\n",
        "    else:\n",
        "        current = num_list\n",
        "        while current.next:\n",
        "            current = current.next\n",
        "        current.next = new_node\n",
        "\n",
        "    number += 1\n",
        "\n",
        "current = num_list\n",
        "while current:\n",
        "    print(current.value, end=\" \")\n",
        "    current = current.next"
      ]
    },
    {
      "cell_type": "markdown",
      "metadata": {
        "id": "KkC-LgdxFehT"
      },
      "source": [
        "## Stack"
      ]
    },
    {
      "cell_type": "code",
      "execution_count": 1611,
      "metadata": {
        "id": "UYTqB1u_FehU"
      },
      "outputs": [],
      "source": [
        "# Creating a stack\n",
        "def create_stack():\n",
        "    stack = []\n",
        "    return stack\n",
        "\n",
        "\n",
        "def print_stack(stack):\n",
        "\n",
        "    if (check_empty(stack)):\n",
        "        return \"stack is empty\"\n",
        "\n",
        "    # Create a copy of the stack and reverse the elements\n",
        "    tempStack = stack.copy()\n",
        "    tempStack.reverse()\n",
        "\n",
        "    # Print all elements using a loop\n",
        "    for i in tempStack:\n",
        "        print(i)\n",
        "\n",
        "    # Delete the copy to free up memory\n",
        "    del tempStack\n",
        "\n",
        "# Creating an empty stack\n",
        "\n",
        "\n",
        "def check_empty(stack):\n",
        "    return len(stack) == 0\n",
        "\n",
        "\n",
        "# Adding items into the stack\n",
        "def push(stack, item):\n",
        "    stack.append(item)\n",
        "    print(\"pushed item: \" + item)\n",
        "\n",
        "\n",
        "# Removing an element from the stack\n",
        "def pop(stack):\n",
        "    if (check_empty(stack)):\n",
        "        return \"stack is empty\"\n",
        "\n",
        "    return stack.pop()\n",
        "\n",
        "\n",
        "def peek(stack):\n",
        "\n",
        "    # Use negative indexing to display the last element of the list\n",
        "    print(stack[-1])"
      ]
    },
    {
      "cell_type": "markdown",
      "metadata": {
        "id": "wLAQchs8FehU"
      },
      "source": [
        "**Instructions** ❗️❗️\n",
        "\n",
        "Use the pre-defined stack class/functions to create a stack"
      ]
    },
    {
      "cell_type": "markdown",
      "metadata": {
        "id": "37cg9BoCFehU"
      },
      "source": [
        "1. Create two (2) stacks named **name_stack** and **num_stack** `(5 points)`\n",
        "\n",
        "- **name_stack** should contain all letters of your first name.\n",
        "- **num_stack** should contain all digits of your student number.\n",
        "\n",
        "    **Expected Output:**\n",
        "\n",
        "    print(name_stack)\n",
        "\n",
        "    ['E', 'L', 'I', 'Z', 'E', 'R']\n",
        "\n",
        "    print(num_stack)\n",
        "\n",
        "    [2,0,2,2,1,2,3,4,5,6]"
      ]
    },
    {
      "cell_type": "code",
      "execution_count": 1612,
      "metadata": {
        "id": "HlUIUQzQFehU"
      },
      "outputs": [
        {
          "name": "stdout",
          "output_type": "stream",
          "text": [
            "name_stack\n",
            "['A', 'A', 'R', 'O', 'N']\n",
            "num_stack\n",
            "[2, 0, 2, 2, 1, 0, 7, 7, 9, 1]\n"
          ]
        }
      ],
      "source": [
        "# put your answer here\n",
        "def create_stack():\n",
        "    stack = []\n",
        "    return stack\n",
        "\n",
        "def print_stack(stack):\n",
        "\n",
        "    print(stack)\n",
        "\n",
        "def push(stack, item):\n",
        "    stack.append(item)\n",
        "\n",
        "def pop(stack):\n",
        "    return stack.pop()\n",
        "\n",
        "def peek(stack):\n",
        "    print(stack[-1])\n",
        "\n",
        "name_stack = create_stack()\n",
        "num_stack = create_stack()\n",
        "\n",
        "first_name = \"AARON\"\n",
        "for letter in first_name:\n",
        "    push(name_stack, letter)\n",
        "\n",
        "student_number = \"2022107791\"\n",
        "for digit in student_number:\n",
        "    push(num_stack, int(digit))\n",
        "\n",
        "print(\"name_stack\")\n",
        "print_stack(name_stack)\n",
        "\n",
        "print(\"num_stack\")\n",
        "print_stack(num_stack)"
      ]
    },
    {
      "cell_type": "markdown",
      "metadata": {
        "id": "8cySe9LXFehU"
      },
      "source": [
        "2. Create a stack named **my_stack** that follows the following format: `(5 points)`\n",
        "\n",
        "- The first element should be the **5th digit in your student number**\n",
        "- The succeeding elements should be the letters of your **first name**\n",
        "- The last element should be the **last digit of your student number**\n",
        "\n",
        "    **Expected Output:**\n",
        "\n",
        "    my_stack = [1, E, L, I, Z, E, R, 6]"
      ]
    },
    {
      "cell_type": "code",
      "execution_count": 1613,
      "metadata": {
        "id": "bEnCoAhjFehU"
      },
      "outputs": [
        {
          "name": "stdout",
          "output_type": "stream",
          "text": [
            "[1, 'A', 'A', 'R', 'O', 'N', 1]\n"
          ]
        }
      ],
      "source": [
        "# put your answer here\n",
        "my_student_number = \"2022107791\"\n",
        "first_name = \"AARON\"\n",
        "\n",
        "my_stack = []\n",
        "\n",
        "my_stack.append(int(my_student_number[4]))  \n",
        "\n",
        "for letter in first_name:\n",
        "    my_stack.append(letter) \n",
        "\n",
        "my_stack.append(int(my_student_number[-1])) \n",
        "\n",
        "print(my_stack)"
      ]
    },
    {
      "cell_type": "markdown",
      "metadata": {
        "id": "8a8_KP5nFehU"
      },
      "source": [
        "3. Write a `verifyStack()` function that will take in `my_stack` and check if its format has been followed `(10 points)`\n",
        "\n",
        "- Return **True** if the format has been followed\n",
        "- Return **False** if the format was not followed\n",
        "- Verify the format by checking the contents of **my_stack** with **name_stack** and **num_stack**\n",
        "\n",
        "    **Expected Output:**\n",
        "\n",
        "    my_stack = [1, E, L, I, Z, E, R, 6]\n",
        "\n",
        "    verifyStack(my_stack)\n",
        "\n",
        "    True\n",
        "\n",
        "    my_stack = [1, S, L, I, Z, E, R, 7]\n",
        "\n",
        "    verifyStack(my_stack)\n",
        "\n",
        "    False"
      ]
    },
    {
      "cell_type": "code",
      "execution_count": 1614,
      "metadata": {
        "id": "RdANSxD0FehU"
      },
      "outputs": [
        {
          "name": "stdout",
          "output_type": "stream",
          "text": [
            "my_stack = [1, 'A', 'A', 'R', 'O', 'N', 1]\n",
            "verifyStack(my_stack)\n",
            "True\n",
            "my_stack = [1, 'A', 'S', 'R', 'O', 'N', 9]\n",
            "verifyStack(my_stack)\n",
            "False\n"
          ]
        }
      ],
      "source": [
        "# put your answer here\n",
        "def verifyStack(my_stack):\n",
        "    if len(my_stack) != len(name_stack) + 2:\n",
        "        return False\n",
        "\n",
        "    if my_stack[0] != int(student_number[4]) or my_stack[-1] != int(student_number[-1]):\n",
        "        return False\n",
        "\n",
        "    if my_stack[1:-1] != list(name_stack):\n",
        "        return False\n",
        "\n",
        "    return True\n",
        "\n",
        "my_stack1 = [int(student_number[4])] + list(name_stack) + [int(student_number[-1])]\n",
        "result1 = verifyStack(my_stack1)\n",
        "print(f\"my_stack = {my_stack1}\")\n",
        "print(f\"verifyStack(my_stack)\")\n",
        "print(result1)\n",
        "\n",
        "my_stack2 = [1, 'A', 'S', 'R', 'O', 'N', 9]\n",
        "result2 = verifyStack(my_stack2)\n",
        "print(f\"my_stack = {my_stack2}\")\n",
        "print(f\"verifyStack(my_stack)\")\n",
        "print(result2)"
      ]
    },
    {
      "cell_type": "markdown",
      "metadata": {
        "id": "UC5C64B2FehU"
      },
      "source": [
        "## Queue"
      ]
    },
    {
      "cell_type": "code",
      "execution_count": 1615,
      "metadata": {
        "id": "NJJ0j0LHFehU"
      },
      "outputs": [],
      "source": [
        "class Queue:\n",
        "    def __init__(self):\n",
        "        self.queue = []\n",
        "\n",
        "    # Add an element\n",
        "    def enqueue(self, item):\n",
        "        self.queue.append(item)\n",
        "\n",
        "    # Remove an element\n",
        "    def dequeue(self):\n",
        "        if len(self.queue) < 1:\n",
        "            return None\n",
        "        return self.queue.pop(0)\n",
        "\n",
        "    # Display  the queue\n",
        "    def display(self):\n",
        "        print(self.queue)\n",
        "\n",
        "    def size(self):\n",
        "        return len(self.queue)\n",
        "\n",
        "    def peek(self):\n",
        "        return self.queue[0]"
      ]
    },
    {
      "cell_type": "markdown",
      "metadata": {
        "id": "80OekpbeFehV"
      },
      "source": [
        "**Instructions** ❗️❗️\n",
        "\n",
        "Use the pre-defined queue class/functions to create a Queue"
      ]
    },
    {
      "cell_type": "markdown",
      "metadata": {
        "id": "_Hf0OP5cFehV"
      },
      "source": [
        "1. Create a simple queue named **num_queue** `(5 points)`\n",
        "\n",
        "- **num_queue** should contain all digits of your student number.\n",
        "\n",
        "    **Expected Output:**\n",
        "\n",
        "    print(num_queue)\n",
        "\n",
        "    [2,0,2,2,1,2,3,4,5,6]"
      ]
    },
    {
      "cell_type": "code",
      "execution_count": 1616,
      "metadata": {
        "id": "_mgmE4ArFehV"
      },
      "outputs": [
        {
          "name": "stdout",
          "output_type": "stream",
          "text": [
            "[2, 0, 2, 2, 1, 0, 7, 7, 9, 1]\n"
          ]
        }
      ],
      "source": [
        "# put your answer here\n",
        "import queue\n",
        "\n",
        "student_number = \"2022107791\"\n",
        "num_queue = queue.Queue()\n",
        "\n",
        "for number in student_number:\n",
        "    num_queue.put(int(number))\n",
        "    \n",
        "num_list = list(num_queue.queue)\n",
        "\n",
        "print(num_list)"
      ]
    },
    {
      "cell_type": "markdown",
      "metadata": {
        "id": "1pHG8t6DFehV"
      },
      "source": [
        "2. Write a `getMax()` or `getMin()` function for **num_queue** `(5 points)`\n",
        "\n",
        "- If your student number ends with an odd number, create a `getMax()` function that will return the largest number in **num_queue**\n",
        "- If your student number ends with an even number, create a `getMin()` function that will return the lowest number in **num_queue**\n",
        "\n",
        "    **Expected Output for getMax():**\n",
        "\n",
        "    getMax(num_queue)\n",
        "\n",
        "    6\n",
        "\n",
        "    **Expected Output for getMin():**\n",
        "\n",
        "    getMin(num_queue)\n",
        "\n",
        "    0"
      ]
    },
    {
      "cell_type": "code",
      "execution_count": 1617,
      "metadata": {
        "id": "itj2U610FehV"
      },
      "outputs": [
        {
          "name": "stdout",
          "output_type": "stream",
          "text": [
            "9\n"
          ]
        }
      ],
      "source": [
        "# put your answer here\n",
        "def getMax(studnum):\n",
        "    return max(studnum.queue, default=None)\n",
        "\n",
        "max_value = getMax(num_queue)\n",
        "print(max_value)"
      ]
    },
    {
      "cell_type": "markdown",
      "metadata": {
        "id": "YkgmP6GwFehV"
      },
      "source": [
        "3. Write a `getOdd()` or `getEven()` function for  **num_queue** `(5 points)`\n",
        "\n",
        "- If your student number ends with an **odd number**, create a `getOdd()` function that will return all odd numbers in **num_queue**\n",
        "- If your student number ends with an **even number**, create a `getEven()` function that will return all even numbers in **num_queue**\n",
        "\n",
        "    **Expected Output for getOdd():**\n",
        "\n",
        "    getOdd(num_queue)\n",
        "\n",
        "    [1, 3, 5]\n",
        "\n",
        "    **Expected Output for getEven():**\n",
        "\n",
        "    getEven(num_queue)\n",
        "\n",
        "    [0, 2, 4, 6]"
      ]
    },
    {
      "cell_type": "code",
      "execution_count": 1618,
      "metadata": {
        "id": "2Bc7E1zNFehV"
      },
      "outputs": [
        {
          "name": "stdout",
          "output_type": "stream",
          "text": [
            "[1, 7, 7, 9, 1]\n"
          ]
        }
      ],
      "source": [
        "# put your answer here\n",
        "def getOdd(studnum):\n",
        "        odd = []\n",
        "        for num in studnum.queue:\n",
        "            if num %2 == 1:\n",
        "                odd.append(num)\n",
        "        return odd\n",
        "\n",
        "print(getOdd(num_queue))"
      ]
    },
    {
      "cell_type": "markdown",
      "metadata": {
        "id": "kuzWF5g4FehV"
      },
      "source": [
        "4. Write a `removeDup()` function that will remove all duplicates in **num_queue** `(5 points)`\n",
        "\n",
        "    **Expected Output:**\n",
        "\n",
        "    removeDup(num_queue)\n",
        "\n",
        "    [2,0,1,3,4,5,6]"
      ]
    },
    {
      "cell_type": "code",
      "execution_count": 1619,
      "metadata": {
        "id": "I8LeQP8MFehY"
      },
      "outputs": [
        {
          "name": "stdout",
          "output_type": "stream",
          "text": [
            "[2, 0, 1, 7, 9]\n"
          ]
        }
      ],
      "source": [
        "# put your answer here\n",
        "def removeDup(studnum):\n",
        "    NoDup = []\n",
        "    for i in studnum.queue:\n",
        "        if i not in NoDup:\n",
        "            NoDup.append(i)\n",
        "    return NoDup\n",
        "\n",
        "print(removeDup(num_queue))"
      ]
    },
    {
      "cell_type": "markdown",
      "metadata": {
        "id": "LVfZTh8YFehZ"
      },
      "source": [
        "## Sort"
      ]
    },
    {
      "cell_type": "markdown",
      "metadata": {
        "id": "bm9lonfzFehZ"
      },
      "source": [
        "**Instructions** ❗️❗️\n",
        "\n",
        "Use the any sorting algoritms"
      ]
    },
    {
      "cell_type": "markdown",
      "metadata": {
        "id": "EJTlxhEdFehZ"
      },
      "source": [
        "1. Using any sorting algorithm, sort the **last 6 digits** of your student number in ascending order `(5 points)`\n",
        "\n",
        "    **Example:**\n",
        "\n",
        "    student_number = [2,0,2,2,6,2,5,1,3,4]\n",
        "\n",
        "    **Expected Output:**\n",
        "\n",
        "    print(student_number)\n",
        "\n",
        "    [2,0,2,2,1,2,3,4,5,6]\n"
      ]
    },
    {
      "cell_type": "code",
      "execution_count": 1620,
      "metadata": {
        "id": "MkZKfveOFehZ"
      },
      "outputs": [
        {
          "name": "stdout",
          "output_type": "stream",
          "text": [
            "[2, 0, 2, 2, 0, 1, 1, 7, 7, 9]\n"
          ]
        }
      ],
      "source": [
        "# put your answer here\n",
        "student_number = [2, 0, 2, 2, 1, 0, 7, 7, 9, 1]\n",
        "\n",
        "def bubble_sort(arr):\n",
        "    n = len(arr)\n",
        "    \n",
        "    for x in range(n - 1):\n",
        "        for y in range(0, n - x - 1):\n",
        "            if arr[y] > arr[y + 1]:\n",
        "                arr[y], arr[y + 1] = arr[y + 1], arr[y]\n",
        "\n",
        "first_digits = student_number[:4]\n",
        "last_digits = student_number[-6:]\n",
        "\n",
        "bubble_sort(last_digits)\n",
        "\n",
        "final_student_number = first_digits + last_digits\n",
        "\n",
        "print(final_student_number)"
      ]
    },
    {
      "cell_type": "markdown",
      "metadata": {
        "id": "sC2JZRZMFehZ"
      },
      "source": [
        "2. Using your student_number, separately sort the even numbers in **increasing order** and the odd numbers in **decreasing order** `(15 points)`\n",
        "\n",
        "    **Example:**\n",
        "\n",
        "    student_number = [2,0,2,2,1,2,3,4,5,6]\n",
        "\n",
        "    **Expected Output:**\n",
        "\n",
        "    print(student_number)\n",
        "\n",
        "    [0,2,2,2,2,4,6,5,3,1]"
      ]
    },
    {
      "cell_type": "code",
      "execution_count": 1621,
      "metadata": {
        "id": "hWOh_ohcFehZ"
      },
      "outputs": [
        {
          "name": "stdout",
          "output_type": "stream",
          "text": [
            "[0, 0, 2, 2, 2, 9, 7, 7, 1, 1]\n"
          ]
        }
      ],
      "source": [
        "# put your answer here\n",
        "student_number = [2, 0, 2, 2, 1, 0, 7, 7, 9, 1]\n",
        "\n",
        "even_numbers = [x for x in student_number if x % 2 == 0]\n",
        "odd_numbers = [x for x in student_number if x % 2 != 0]\n",
        "\n",
        "even_numbers.sort()\n",
        "\n",
        "odd_numbers.sort(reverse=True)\n",
        "\n",
        "sorted_student_number = even_numbers + odd_numbers\n",
        "\n",
        "print(sorted_student_number)"
      ]
    }
  ],
  "metadata": {
    "colab": {
      "include_colab_link": true,
      "provenance": []
    },
    "kernelspec": {
      "display_name": "Python 3",
      "language": "python",
      "name": "python3"
    },
    "language_info": {
      "codemirror_mode": {
        "name": "ipython",
        "version": 3
      },
      "file_extension": ".py",
      "mimetype": "text/x-python",
      "name": "python",
      "nbconvert_exporter": "python",
      "pygments_lexer": "ipython3",
      "version": "3.9.13"
    },
    "orig_nbformat": 4
  },
  "nbformat": 4,
  "nbformat_minor": 0
}
